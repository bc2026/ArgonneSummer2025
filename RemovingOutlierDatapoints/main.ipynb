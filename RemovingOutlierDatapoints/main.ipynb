{
 "cells": [
  {
   "cell_type": "code",
   "execution_count": 1,
   "id": "d5b57be1",
   "metadata": {},
   "outputs": [
    {
     "name": "stderr",
     "output_type": "stream",
     "text": [
      "/Users/bc/Library/CloudStorage/Box-Box/Bhagawat_Summer_Student/code_development/RemovingOutlierDatapoints/.venv/lib/python3.9/site-packages/urllib3/__init__.py:35: NotOpenSSLWarning: urllib3 v2 only supports OpenSSL 1.1.1+, currently the 'ssl' module is compiled with 'LibreSSL 2.8.3'. See: https://github.com/urllib3/urllib3/issues/3020\n",
      "  warnings.warn(\n"
     ]
    }
   ],
   "source": [
    "import papermill as pm\n",
    "import os\n",
    "import glob\n",
    "import itertools"
   ]
  },
  {
   "cell_type": "code",
   "execution_count": 2,
   "id": "0583bcaf",
   "metadata": {},
   "outputs": [],
   "source": [
    "dataset_paths = list(glob.glob('./data/*.csv'))\n",
    "notebook_path = './OutlierRemoval_left-derivatives.ipynb'"
   ]
  },
  {
   "cell_type": "code",
   "execution_count": 4,
   "id": "7d90c5db",
   "metadata": {},
   "outputs": [
    {
     "name": "stderr",
     "output_type": "stream",
     "text": [
      "Executing:   0%|          | 0/22 [00:00<?, ?cell/s]"
     ]
    },
    {
     "name": "stderr",
     "output_type": "stream",
     "text": [
      "Executing:  95%|█████████▌| 21/22 [00:08<00:00,  2.53cell/s]\n"
     ]
    },
    {
     "ename": "PapermillExecutionError",
     "evalue": "\n---------------------------------------------------------------------------\nException encountered at \"In [20]\":\n---------------------------------------------------------------------------\nValueError                                Traceback (most recent call last)\nCell In[20], line 8\n      5 fig, ax1 = plt.subplots(figsize=(10, 7))\n      7 # Plot the bars\n----> 8 ax1.scatter(data.index, data.values)  # Convert index to string for proper label display\n      9 m,b = np.polyfit(labels, regional_means, 1)\n     11 model = LinearRegression()\n\nFile ~/Library/CloudStorage/Box-Box/Bhagawat_Summer_Student/code_development/RemovingOutlierDatapoints/.venv/lib/python3.9/site-packages/matplotlib/__init__.py:1476, in _preprocess_data.<locals>.inner(ax, data, *args, **kwargs)\n   1473 @functools.wraps(func)\n   1474 def inner(ax, *args, data=None, **kwargs):\n   1475     if data is None:\n-> 1476         return func(\n   1477             ax,\n   1478             *map(sanitize_sequence, args),\n   1479             **{k: sanitize_sequence(v) for k, v in kwargs.items()})\n   1481     bound = new_sig.bind(ax, *args, **kwargs)\n   1482     auto_label = (bound.arguments.get(label_namer)\n   1483                   or bound.kwargs.get(label_namer))\n\nFile ~/Library/CloudStorage/Box-Box/Bhagawat_Summer_Student/code_development/RemovingOutlierDatapoints/.venv/lib/python3.9/site-packages/matplotlib/axes/_axes.py:4787, in Axes.scatter(self, x, y, s, c, marker, cmap, norm, vmin, vmax, alpha, linewidths, edgecolors, plotnonfinite, **kwargs)\n   4785 y = np.ma.ravel(y)\n   4786 if x.size != y.size:\n-> 4787     raise ValueError(\"x and y must be the same size\")\n   4789 if s is None:\n   4790     s = (20 if mpl.rcParams['_internal.classic_mode'] else\n   4791          mpl.rcParams['lines.markersize'] ** 2.0)\n\nValueError: x and y must be the same size\n",
     "output_type": "error",
     "traceback": [
      "\u001b[0;31m---------------------------------------------------------------------------\u001b[0m",
      "\u001b[0;31mPapermillExecutionError\u001b[0m                   Traceback (most recent call last)",
      "Cell \u001b[0;32mIn[4], line 11\u001b[0m\n\u001b[1;32m      7\u001b[0m     \u001b[38;5;28;01mcontinue\u001b[39;00m\n\u001b[1;32m      9\u001b[0m output_title \u001b[38;5;241m=\u001b[39m \u001b[38;5;124mf\u001b[39m\u001b[38;5;124m'\u001b[39m\u001b[38;5;132;01m{\u001b[39;00mdata_name\u001b[38;5;132;01m}\u001b[39;00m\u001b[38;5;124m_Response\u001b[39m\u001b[38;5;124m'\u001b[39m\n\u001b[0;32m---> 11\u001b[0m \u001b[43mpm\u001b[49m\u001b[38;5;241;43m.\u001b[39;49m\u001b[43mexecute_notebook\u001b[49m\u001b[43m(\u001b[49m\n\u001b[1;32m     12\u001b[0m \u001b[43m            \u001b[49m\u001b[43mnotebook_path\u001b[49m\u001b[43m,\u001b[49m\n\u001b[1;32m     13\u001b[0m \u001b[43m            \u001b[49m\u001b[38;5;124;43mf\u001b[39;49m\u001b[38;5;124;43m'\u001b[39;49m\u001b[38;5;124;43m/tmp/\u001b[39;49m\u001b[38;5;132;43;01m{\u001b[39;49;00m\u001b[43moutput_title\u001b[49m\u001b[38;5;132;43;01m}\u001b[39;49;00m\u001b[38;5;124;43m.ipynb\u001b[39;49m\u001b[38;5;124;43m'\u001b[39;49m\u001b[43m,\u001b[49m\n\u001b[1;32m     14\u001b[0m \u001b[43m            \u001b[49m\u001b[43mparameters\u001b[49m\u001b[38;5;241;43m=\u001b[39;49m\u001b[38;5;28;43mdict\u001b[39;49m\u001b[43m(\u001b[49m\n\u001b[1;32m     15\u001b[0m \u001b[43m                \u001b[49m\u001b[43mpath_to_data\u001b[49m\u001b[38;5;241;43m=\u001b[39;49m\u001b[43mpath_to_data\u001b[49m\u001b[43m,\u001b[49m\n\u001b[1;32m     16\u001b[0m \u001b[43m                \u001b[49m\u001b[43mresponse_index\u001b[49m\u001b[38;5;241;43m=\u001b[39;49m\u001b[38;5;241;43m1\u001b[39;49m\u001b[43m,\u001b[49m\n\u001b[1;32m     17\u001b[0m \u001b[43m                \u001b[49m\u001b[43moutput_path\u001b[49m\u001b[38;5;241;43m=\u001b[39;49m\u001b[38;5;124;43m'\u001b[39;49m\u001b[38;5;124;43m./output/medians\u001b[39;49m\u001b[38;5;124;43m'\u001b[39;49m\u001b[43m,\u001b[49m\n\u001b[1;32m     18\u001b[0m \u001b[43m                \u001b[49m\u001b[43mreport_prefix\u001b[49m\u001b[38;5;241;43m=\u001b[39;49m\u001b[38;5;124;43mf\u001b[39;49m\u001b[38;5;124;43m'\u001b[39;49m\u001b[38;5;132;43;01m{\u001b[39;49;00m\u001b[43mdata_name\u001b[49m\u001b[38;5;132;43;01m}\u001b[39;49;00m\u001b[38;5;124;43m'\u001b[39;49m\u001b[43m)\u001b[49m\n\u001b[1;32m     19\u001b[0m \u001b[43m                \u001b[49m\u001b[43m)\u001b[49m\n",
      "File \u001b[0;32m~/Library/CloudStorage/Box-Box/Bhagawat_Summer_Student/code_development/RemovingOutlierDatapoints/.venv/lib/python3.9/site-packages/papermill/execute.py:131\u001b[0m, in \u001b[0;36mexecute_notebook\u001b[0;34m(input_path, output_path, parameters, engine_name, request_save_on_cell_execute, prepare_only, kernel_name, language, progress_bar, log_output, stdout_file, stderr_file, start_timeout, report_mode, cwd, **engine_kwargs)\u001b[0m\n\u001b[1;32m    116\u001b[0m         nb \u001b[38;5;241m=\u001b[39m papermill_engines\u001b[38;5;241m.\u001b[39mexecute_notebook_with_engine(\n\u001b[1;32m    117\u001b[0m             engine_name,\n\u001b[1;32m    118\u001b[0m             nb,\n\u001b[0;32m   (...)\u001b[0m\n\u001b[1;32m    127\u001b[0m             \u001b[38;5;241m*\u001b[39m\u001b[38;5;241m*\u001b[39mengine_kwargs,\n\u001b[1;32m    128\u001b[0m         )\n\u001b[1;32m    130\u001b[0m     \u001b[38;5;66;03m# Check for errors first (it saves on error before raising)\u001b[39;00m\n\u001b[0;32m--> 131\u001b[0m     \u001b[43mraise_for_execution_errors\u001b[49m\u001b[43m(\u001b[49m\u001b[43mnb\u001b[49m\u001b[43m,\u001b[49m\u001b[43m \u001b[49m\u001b[43moutput_path\u001b[49m\u001b[43m)\u001b[49m\n\u001b[1;32m    133\u001b[0m \u001b[38;5;66;03m# Write final output in case the engine didn't write it on cell completion.\u001b[39;00m\n\u001b[1;32m    134\u001b[0m write_ipynb(nb, output_path)\n",
      "File \u001b[0;32m~/Library/CloudStorage/Box-Box/Bhagawat_Summer_Student/code_development/RemovingOutlierDatapoints/.venv/lib/python3.9/site-packages/papermill/execute.py:251\u001b[0m, in \u001b[0;36mraise_for_execution_errors\u001b[0;34m(nb, output_path)\u001b[0m\n\u001b[1;32m    248\u001b[0m nb\u001b[38;5;241m.\u001b[39mcells\u001b[38;5;241m.\u001b[39minsert(\u001b[38;5;241m0\u001b[39m, error_msg_cell)\n\u001b[1;32m    250\u001b[0m write_ipynb(nb, output_path)\n\u001b[0;32m--> 251\u001b[0m \u001b[38;5;28;01mraise\u001b[39;00m error\n",
      "\u001b[0;31mPapermillExecutionError\u001b[0m: \n---------------------------------------------------------------------------\nException encountered at \"In [20]\":\n---------------------------------------------------------------------------\nValueError                                Traceback (most recent call last)\nCell In[20], line 8\n      5 fig, ax1 = plt.subplots(figsize=(10, 7))\n      7 # Plot the bars\n----> 8 ax1.scatter(data.index, data.values)  # Convert index to string for proper label display\n      9 m,b = np.polyfit(labels, regional_means, 1)\n     11 model = LinearRegression()\n\nFile ~/Library/CloudStorage/Box-Box/Bhagawat_Summer_Student/code_development/RemovingOutlierDatapoints/.venv/lib/python3.9/site-packages/matplotlib/__init__.py:1476, in _preprocess_data.<locals>.inner(ax, data, *args, **kwargs)\n   1473 @functools.wraps(func)\n   1474 def inner(ax, *args, data=None, **kwargs):\n   1475     if data is None:\n-> 1476         return func(\n   1477             ax,\n   1478             *map(sanitize_sequence, args),\n   1479             **{k: sanitize_sequence(v) for k, v in kwargs.items()})\n   1481     bound = new_sig.bind(ax, *args, **kwargs)\n   1482     auto_label = (bound.arguments.get(label_namer)\n   1483                   or bound.kwargs.get(label_namer))\n\nFile ~/Library/CloudStorage/Box-Box/Bhagawat_Summer_Student/code_development/RemovingOutlierDatapoints/.venv/lib/python3.9/site-packages/matplotlib/axes/_axes.py:4787, in Axes.scatter(self, x, y, s, c, marker, cmap, norm, vmin, vmax, alpha, linewidths, edgecolors, plotnonfinite, **kwargs)\n   4785 y = np.ma.ravel(y)\n   4786 if x.size != y.size:\n-> 4787     raise ValueError(\"x and y must be the same size\")\n   4789 if s is None:\n   4790     s = (20 if mpl.rcParams['_internal.classic_mode'] else\n   4791          mpl.rcParams['lines.markersize'] ** 2.0)\n\nValueError: x and y must be the same size\n"
     ]
    }
   ],
   "source": [
    "for dataset in dataset_paths:\n",
    "    path_to_data = dataset\n",
    "    data_name = path_to_data.split('/')[-1].split('.csv')[0]\n",
    "\n",
    "    if os.path.exists(f'./output/{data_name}'):\n",
    "        print(f'./output/{data_name} exists, skipping...')\n",
    "        continue\n",
    "\n",
    "    output_title = f'{data_name}_Response'\n",
    "\n",
    "    pm.execute_notebook(\n",
    "                notebook_path,\n",
    "                f'/tmp/{output_title}.ipynb',\n",
    "                parameters=dict(\n",
    "                    path_to_data=path_to_data,\n",
    "                    response_index=1,\n",
    "                    output_path='./output/medians',\n",
    "                    report_prefix=f'{data_name}')\n",
    "                    )\n",
    "    \n"
   ]
  }
 ],
 "metadata": {
  "kernelspec": {
   "display_name": ".venv",
   "language": "python",
   "name": "python3"
  },
  "language_info": {
   "codemirror_mode": {
    "name": "ipython",
    "version": 3
   },
   "file_extension": ".py",
   "mimetype": "text/x-python",
   "name": "python",
   "nbconvert_exporter": "python",
   "pygments_lexer": "ipython3",
   "version": "3.9.6"
  }
 },
 "nbformat": 4,
 "nbformat_minor": 5
}
