{
 "cells": [
  {
   "cell_type": "code",
   "execution_count": 1,
   "id": "2e2aa85e",
   "metadata": {},
   "outputs": [
    {
     "name": "stdout",
     "output_type": "stream",
     "text": [
      "Requirement already satisfied: papermill in /Library/Frameworks/Python.framework/Versions/3.13/lib/python3.13/site-packages (2.6.0)\n",
      "Requirement already satisfied: click in /Library/Frameworks/Python.framework/Versions/3.13/lib/python3.13/site-packages (from papermill) (8.1.8)\n",
      "Requirement already satisfied: pyyaml in /Library/Frameworks/Python.framework/Versions/3.13/lib/python3.13/site-packages (from papermill) (6.0.2)\n",
      "Requirement already satisfied: nbformat>=5.2.0 in /Library/Frameworks/Python.framework/Versions/3.13/lib/python3.13/site-packages (from papermill) (5.10.4)\n",
      "Requirement already satisfied: nbclient>=0.2.0 in /Library/Frameworks/Python.framework/Versions/3.13/lib/python3.13/site-packages (from papermill) (0.10.2)\n",
      "Requirement already satisfied: tqdm>=4.32.2 in /Library/Frameworks/Python.framework/Versions/3.13/lib/python3.13/site-packages (from papermill) (4.67.1)\n",
      "Requirement already satisfied: requests in /Library/Frameworks/Python.framework/Versions/3.13/lib/python3.13/site-packages (from papermill) (2.32.3)\n",
      "Requirement already satisfied: entrypoints in /Library/Frameworks/Python.framework/Versions/3.13/lib/python3.13/site-packages (from papermill) (0.4)\n",
      "Requirement already satisfied: tenacity>=5.0.2 in /Library/Frameworks/Python.framework/Versions/3.13/lib/python3.13/site-packages (from papermill) (9.1.2)\n",
      "Requirement already satisfied: ansicolors in /Library/Frameworks/Python.framework/Versions/3.13/lib/python3.13/site-packages (from papermill) (1.1.8)\n",
      "Requirement already satisfied: jupyter-client>=6.1.12 in /Users/bc/Library/Python/3.13/lib/python/site-packages (from nbclient>=0.2.0->papermill) (8.6.3)\n",
      "Requirement already satisfied: jupyter-core!=5.0.*,>=4.12 in /Users/bc/Library/Python/3.13/lib/python/site-packages (from nbclient>=0.2.0->papermill) (5.7.2)\n",
      "Requirement already satisfied: traitlets>=5.4 in /Users/bc/Library/Python/3.13/lib/python/site-packages (from nbclient>=0.2.0->papermill) (5.14.3)\n",
      "Requirement already satisfied: fastjsonschema>=2.15 in /Library/Frameworks/Python.framework/Versions/3.13/lib/python3.13/site-packages (from nbformat>=5.2.0->papermill) (2.21.1)\n",
      "Requirement already satisfied: jsonschema>=2.6 in /Library/Frameworks/Python.framework/Versions/3.13/lib/python3.13/site-packages (from nbformat>=5.2.0->papermill) (4.23.0)\n",
      "Requirement already satisfied: charset-normalizer<4,>=2 in /Library/Frameworks/Python.framework/Versions/3.13/lib/python3.13/site-packages (from requests->papermill) (3.4.1)\n",
      "Requirement already satisfied: idna<4,>=2.5 in /Library/Frameworks/Python.framework/Versions/3.13/lib/python3.13/site-packages (from requests->papermill) (3.10)\n",
      "Requirement already satisfied: urllib3<3,>=1.21.1 in /Library/Frameworks/Python.framework/Versions/3.13/lib/python3.13/site-packages (from requests->papermill) (2.3.0)\n",
      "Requirement already satisfied: certifi>=2017.4.17 in /Library/Frameworks/Python.framework/Versions/3.13/lib/python3.13/site-packages (from requests->papermill) (2025.1.31)\n",
      "Requirement already satisfied: attrs>=22.2.0 in /Library/Frameworks/Python.framework/Versions/3.13/lib/python3.13/site-packages (from jsonschema>=2.6->nbformat>=5.2.0->papermill) (25.3.0)\n",
      "Requirement already satisfied: jsonschema-specifications>=2023.03.6 in /Library/Frameworks/Python.framework/Versions/3.13/lib/python3.13/site-packages (from jsonschema>=2.6->nbformat>=5.2.0->papermill) (2025.4.1)\n",
      "Requirement already satisfied: referencing>=0.28.4 in /Library/Frameworks/Python.framework/Versions/3.13/lib/python3.13/site-packages (from jsonschema>=2.6->nbformat>=5.2.0->papermill) (0.36.2)\n",
      "Requirement already satisfied: rpds-py>=0.7.1 in /Library/Frameworks/Python.framework/Versions/3.13/lib/python3.13/site-packages (from jsonschema>=2.6->nbformat>=5.2.0->papermill) (0.24.0)\n",
      "Requirement already satisfied: python-dateutil>=2.8.2 in /Library/Frameworks/Python.framework/Versions/3.13/lib/python3.13/site-packages (from jupyter-client>=6.1.12->nbclient>=0.2.0->papermill) (2.9.0.post0)\n",
      "Requirement already satisfied: pyzmq>=23.0 in /Users/bc/Library/Python/3.13/lib/python/site-packages (from jupyter-client>=6.1.12->nbclient>=0.2.0->papermill) (26.4.0)\n",
      "Requirement already satisfied: tornado>=6.2 in /Users/bc/Library/Python/3.13/lib/python/site-packages (from jupyter-client>=6.1.12->nbclient>=0.2.0->papermill) (6.4.2)\n",
      "Requirement already satisfied: platformdirs>=2.5 in /Users/bc/Library/Python/3.13/lib/python/site-packages (from jupyter-core!=5.0.*,>=4.12->nbclient>=0.2.0->papermill) (4.3.7)\n",
      "Requirement already satisfied: six>=1.5 in /Library/Frameworks/Python.framework/Versions/3.13/lib/python3.13/site-packages (from python-dateutil>=2.8.2->jupyter-client>=6.1.12->nbclient>=0.2.0->papermill) (1.17.0)\n",
      "\n",
      "\u001b[1m[\u001b[0m\u001b[34;49mnotice\u001b[0m\u001b[1;39;49m]\u001b[0m\u001b[39;49m A new release of pip is available: \u001b[0m\u001b[31;49m25.0.1\u001b[0m\u001b[39;49m -> \u001b[0m\u001b[32;49m25.1.1\u001b[0m\n",
      "\u001b[1m[\u001b[0m\u001b[34;49mnotice\u001b[0m\u001b[1;39;49m]\u001b[0m\u001b[39;49m To update, run: \u001b[0m\u001b[32;49mpip install --upgrade pip\u001b[0m\n"
     ]
    }
   ],
   "source": [
    "!pip install papermill"
   ]
  },
  {
   "cell_type": "code",
   "execution_count": 2,
   "id": "d5b57be1",
   "metadata": {},
   "outputs": [],
   "source": [
    "import papermill as pm\n",
    "import os\n",
    "import glob\n",
    "import itertools"
   ]
  },
  {
   "cell_type": "code",
   "execution_count": 3,
   "id": "0583bcaf",
   "metadata": {},
   "outputs": [
    {
     "data": {
      "text/plain": [
       "['./data/Stds_052125.csv',\n",
       " './data/Stds_060325.csv',\n",
       " './data/Stds_052125_2.csv',\n",
       " './data/Stds_060325_2.csv',\n",
       " './data/Stds_052125_from5460.csv']"
      ]
     },
     "execution_count": 3,
     "metadata": {},
     "output_type": "execute_result"
    }
   ],
   "source": [
    "dataset_paths = list(glob.glob('./data/*.csv'))\n",
    "dataset_paths\n"
   ]
  },
  {
   "cell_type": "code",
   "execution_count": 4,
   "id": "44981889",
   "metadata": {},
   "outputs": [],
   "source": [
    "notebook_path = './OutlierRemoval_left-derivatives.ipynb'"
   ]
  },
  {
   "cell_type": "code",
   "execution_count": 7,
   "id": "1fd28d55",
   "metadata": {},
   "outputs": [
    {
     "data": {
      "application/vnd.jupyter.widget-view+json": {
       "model_id": "f95acb335f794678a484b5640084d0cd",
       "version_major": 2,
       "version_minor": 0
      },
      "text/plain": [
       "Executing:   0%|          | 0/24 [00:00<?, ?cell/s]"
      ]
     },
     "metadata": {},
     "output_type": "display_data"
    },
    {
     "data": {
      "application/vnd.jupyter.widget-view+json": {
       "model_id": "e0baf7a0450a4099a353b4e6c70f63d4",
       "version_major": 2,
       "version_minor": 0
      },
      "text/plain": [
       "Executing:   0%|          | 0/24 [00:00<?, ?cell/s]"
      ]
     },
     "metadata": {},
     "output_type": "display_data"
    },
    {
     "ename": "PapermillExecutionError",
     "evalue": "\n---------------------------------------------------------------------------\nException encountered at \"In [13]\":\n---------------------------------------------------------------------------\nIndexError                                Traceback (most recent call last)\nCell In[13], line 14\n     10 shifts = shifts.reset_index(drop=True)\n     11 shifts = shifts['Time']\n---> 14 detected_intervals = [(np.float64(0),shifts.iloc[0])]\n\nFile /Library/Frameworks/Python.framework/Versions/3.13/lib/python3.13/site-packages/pandas/core/indexing.py:1191, in _LocationIndexer.__getitem__(self, key)\n   1189 maybe_callable = com.apply_if_callable(key, self.obj)\n   1190 maybe_callable = self._check_deprecated_callable_usage(key, maybe_callable)\n-> 1191 return self._getitem_axis(maybe_callable, axis=axis)\n\nFile /Library/Frameworks/Python.framework/Versions/3.13/lib/python3.13/site-packages/pandas/core/indexing.py:1752, in _iLocIndexer._getitem_axis(self, key, axis)\n   1749     raise TypeError(\"Cannot index by location index with a non-integer key\")\n   1751 # validate the location\n-> 1752 self._validate_integer(key, axis)\n   1754 return self.obj._ixs(key, axis=axis)\n\nFile /Library/Frameworks/Python.framework/Versions/3.13/lib/python3.13/site-packages/pandas/core/indexing.py:1685, in _iLocIndexer._validate_integer(self, key, axis)\n   1683 len_axis = len(self.obj._get_axis(axis))\n   1684 if key >= len_axis or key < -len_axis:\n-> 1685     raise IndexError(\"single positional indexer is out-of-bounds\")\n\nIndexError: single positional indexer is out-of-bounds\n",
     "output_type": "error",
     "traceback": [
      "\u001b[31m---------------------------------------------------------------------------\u001b[39m",
      "\u001b[31mPapermillExecutionError\u001b[39m                   Traceback (most recent call last)",
      "\u001b[36mCell\u001b[39m\u001b[36m \u001b[39m\u001b[32mIn[7]\u001b[39m\u001b[32m, line 16\u001b[39m\n\u001b[32m     14\u001b[39m \u001b[38;5;28;01mfor\u001b[39;00m i \u001b[38;5;129;01min\u001b[39;00m \u001b[38;5;28mrange\u001b[39m(\u001b[32m6\u001b[39m):\n\u001b[32m     15\u001b[39m     response_index = i\n\u001b[32m---> \u001b[39m\u001b[32m16\u001b[39m     \u001b[43mpm\u001b[49m\u001b[43m.\u001b[49m\u001b[43mexecute_notebook\u001b[49m\u001b[43m(\u001b[49m\n\u001b[32m     17\u001b[39m \u001b[43m        \u001b[49m\u001b[43mnotebook_path\u001b[49m\u001b[43m,\u001b[49m\n\u001b[32m     18\u001b[39m \u001b[43m        \u001b[49m\u001b[33;43mf\u001b[39;49m\u001b[33;43m'\u001b[39;49m\u001b[33;43m/tmp/\u001b[39;49m\u001b[38;5;132;43;01m{\u001b[39;49;00m\u001b[43moutput_title\u001b[49m\u001b[38;5;132;43;01m}\u001b[39;49;00m\u001b[33;43m_\u001b[39;49m\u001b[38;5;132;43;01m{\u001b[39;49;00m\u001b[43mresponse_index\u001b[49m\u001b[38;5;132;43;01m}\u001b[39;49;00m\u001b[33;43m.ipynb\u001b[39;49m\u001b[33;43m'\u001b[39;49m\u001b[43m,\u001b[49m\n\u001b[32m     19\u001b[39m \u001b[43m        \u001b[49m\u001b[43mparameters\u001b[49m\u001b[43m=\u001b[49m\u001b[38;5;28;43mdict\u001b[39;49m\u001b[43m(\u001b[49m\n\u001b[32m     20\u001b[39m \u001b[43m            \u001b[49m\u001b[43mpath_to_data\u001b[49m\u001b[43m=\u001b[49m\u001b[43mpath_to_data\u001b[49m\u001b[43m,\u001b[49m\n\u001b[32m     21\u001b[39m \u001b[43m            \u001b[49m\u001b[43mresponse_index\u001b[49m\u001b[43m=\u001b[49m\u001b[43mi\u001b[49m\u001b[43m,\u001b[49m\n\u001b[32m     22\u001b[39m \u001b[43m            \u001b[49m\u001b[43mreport_title\u001b[49m\u001b[43m=\u001b[49m\u001b[33;43mf\u001b[39;49m\u001b[33;43m'\u001b[39;49m\u001b[38;5;132;43;01m{\u001b[39;49;00m\u001b[43moutput_title\u001b[49m\u001b[38;5;132;43;01m}\u001b[39;49;00m\u001b[33;43m_\u001b[39;49m\u001b[38;5;132;43;01m{\u001b[39;49;00m\u001b[43mresponse_index\u001b[49m\u001b[38;5;132;43;01m}\u001b[39;49;00m\u001b[33;43m_Report\u001b[39;49m\u001b[33;43m'\u001b[39;49m\u001b[43m,\u001b[49m\n\u001b[32m     23\u001b[39m \u001b[43m            \u001b[49m\u001b[43mthreshold_value\u001b[49m\u001b[43m=\u001b[49m\u001b[43mthreshold_value\u001b[49m\u001b[43m,\u001b[49m\n\u001b[32m     24\u001b[39m \u001b[43m            \u001b[49m\u001b[43moutput_path\u001b[49m\u001b[43m=\u001b[49m\u001b[33;43m'\u001b[39;49m\u001b[33;43m./output/k-means\u001b[39;49m\u001b[33;43m'\u001b[39;49m\n\u001b[32m     25\u001b[39m \u001b[43m    \u001b[49m\u001b[43m)\u001b[49m\n\u001b[32m     26\u001b[39m \u001b[43m\u001b[49m\u001b[43m)\u001b[49m\n",
      "\u001b[36mFile \u001b[39m\u001b[32m/Library/Frameworks/Python.framework/Versions/3.13/lib/python3.13/site-packages/papermill/execute.py:131\u001b[39m, in \u001b[36mexecute_notebook\u001b[39m\u001b[34m(input_path, output_path, parameters, engine_name, request_save_on_cell_execute, prepare_only, kernel_name, language, progress_bar, log_output, stdout_file, stderr_file, start_timeout, report_mode, cwd, **engine_kwargs)\u001b[39m\n\u001b[32m    116\u001b[39m         nb = papermill_engines.execute_notebook_with_engine(\n\u001b[32m    117\u001b[39m             engine_name,\n\u001b[32m    118\u001b[39m             nb,\n\u001b[32m   (...)\u001b[39m\u001b[32m    127\u001b[39m             **engine_kwargs,\n\u001b[32m    128\u001b[39m         )\n\u001b[32m    130\u001b[39m     \u001b[38;5;66;03m# Check for errors first (it saves on error before raising)\u001b[39;00m\n\u001b[32m--> \u001b[39m\u001b[32m131\u001b[39m     \u001b[43mraise_for_execution_errors\u001b[49m\u001b[43m(\u001b[49m\u001b[43mnb\u001b[49m\u001b[43m,\u001b[49m\u001b[43m \u001b[49m\u001b[43moutput_path\u001b[49m\u001b[43m)\u001b[49m\n\u001b[32m    133\u001b[39m \u001b[38;5;66;03m# Write final output in case the engine didn't write it on cell completion.\u001b[39;00m\n\u001b[32m    134\u001b[39m write_ipynb(nb, output_path)\n",
      "\u001b[36mFile \u001b[39m\u001b[32m/Library/Frameworks/Python.framework/Versions/3.13/lib/python3.13/site-packages/papermill/execute.py:251\u001b[39m, in \u001b[36mraise_for_execution_errors\u001b[39m\u001b[34m(nb, output_path)\u001b[39m\n\u001b[32m    248\u001b[39m nb.cells.insert(\u001b[32m0\u001b[39m, error_msg_cell)\n\u001b[32m    250\u001b[39m write_ipynb(nb, output_path)\n\u001b[32m--> \u001b[39m\u001b[32m251\u001b[39m \u001b[38;5;28;01mraise\u001b[39;00m error\n",
      "\u001b[31mPapermillExecutionError\u001b[39m: \n---------------------------------------------------------------------------\nException encountered at \"In [13]\":\n---------------------------------------------------------------------------\nIndexError                                Traceback (most recent call last)\nCell In[13], line 14\n     10 shifts = shifts.reset_index(drop=True)\n     11 shifts = shifts['Time']\n---> 14 detected_intervals = [(np.float64(0),shifts.iloc[0])]\n\nFile /Library/Frameworks/Python.framework/Versions/3.13/lib/python3.13/site-packages/pandas/core/indexing.py:1191, in _LocationIndexer.__getitem__(self, key)\n   1189 maybe_callable = com.apply_if_callable(key, self.obj)\n   1190 maybe_callable = self._check_deprecated_callable_usage(key, maybe_callable)\n-> 1191 return self._getitem_axis(maybe_callable, axis=axis)\n\nFile /Library/Frameworks/Python.framework/Versions/3.13/lib/python3.13/site-packages/pandas/core/indexing.py:1752, in _iLocIndexer._getitem_axis(self, key, axis)\n   1749     raise TypeError(\"Cannot index by location index with a non-integer key\")\n   1751 # validate the location\n-> 1752 self._validate_integer(key, axis)\n   1754 return self.obj._ixs(key, axis=axis)\n\nFile /Library/Frameworks/Python.framework/Versions/3.13/lib/python3.13/site-packages/pandas/core/indexing.py:1685, in _iLocIndexer._validate_integer(self, key, axis)\n   1683 len_axis = len(self.obj._get_axis(axis))\n   1684 if key >= len_axis or key < -len_axis:\n-> 1685     raise IndexError(\"single positional indexer is out-of-bounds\")\n\nIndexError: single positional indexer is out-of-bounds\n"
     ]
    }
   ],
   "source": [
    "\n",
    "threshold_value = .8\n",
    "\n",
    "for dataset in dataset_paths:\n",
    "    path_to_data = dataset\n",
    "    data_name = path_to_data.split('/')[-1].split('.csv')[0]\n",
    "\n",
    "    if os.path.exists(f'./output/{data_name}'):\n",
    "        print(f'./output/{data_name} exists, skipping...')\n",
    "        continue\n",
    "\n",
    "    response_index = -1\n",
    "    output_title = f'{data_name}_Response'\n",
    "\n",
    "    for i in range(6):\n",
    "        response_index = i\n",
    "        pm.execute_notebook(\n",
    "            notebook_path,\n",
    "            f'/tmp/{output_title}_{response_index}.ipynb',\n",
    "            parameters=dict(\n",
    "                path_to_data=path_to_data,\n",
    "                response_index=i,\n",
    "                report_title=f'{output_title}_{response_index}_Report',\n",
    "                threshold_value=threshold_value,\n",
    "                output_path='./output/k-means'\n",
    "        )\n",
    "    )\n",
    "    "
   ]
  }
 ],
 "metadata": {
  "kernelspec": {
   "display_name": "Python 3",
   "language": "python",
   "name": "python3"
  },
  "language_info": {
   "codemirror_mode": {
    "name": "ipython",
    "version": 3
   },
   "file_extension": ".py",
   "mimetype": "text/x-python",
   "name": "python",
   "nbconvert_exporter": "python",
   "pygments_lexer": "ipython3",
   "version": "3.13.2"
  }
 },
 "nbformat": 4,
 "nbformat_minor": 5
}
