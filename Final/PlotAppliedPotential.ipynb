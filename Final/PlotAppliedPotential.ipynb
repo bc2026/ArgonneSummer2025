{
 "cells": [
  {
   "cell_type": "code",
   "id": "initial_id",
   "metadata": {
    "collapsed": true,
    "ExecuteTime": {
     "end_time": "2025-07-24T20:35:53.398587Z",
     "start_time": "2025-07-24T20:35:53.372684Z"
    }
   },
   "source": [
    "import pandas as pd\n",
    "import matplotlib.pyplot as plt\n",
    "import numpy as np\n",
    "\n",
    "from utils.FinalUtils import load_ec_csv, create_voltage_schedule"
   ],
   "outputs": [],
   "execution_count": 15
  },
  {
   "metadata": {
    "ExecuteTime": {
     "end_time": "2025-07-24T20:35:53.484191Z",
     "start_time": "2025-07-24T20:35:53.452327Z"
    }
   },
   "cell_type": "code",
   "source": [
    "icp_df = pd.read_csv('./data/Example/Example_processed_data_020525_after_25000.csv')\n",
    "\n",
    "icp_df"
   ],
   "id": "5f3bd9176708d687",
   "outputs": [
    {
     "data": {
      "text/plain": [
       "           Time          Pt\n",
       "0     25000.121  180.001134\n",
       "1     25000.272  130.000592\n",
       "2     25000.422   70.000171\n",
       "3     25000.573  160.000896\n",
       "4     25000.723   70.000171\n",
       "...         ...         ...\n",
       "4972  25747.920  100.000350\n",
       "4973  25748.070  100.000350\n",
       "4974  25748.221  160.000896\n",
       "4975  25748.371   80.000224\n",
       "4976  25748.522   90.000283\n",
       "\n",
       "[4977 rows x 2 columns]"
      ],
      "text/html": [
       "<div>\n",
       "<style scoped>\n",
       "    .dataframe tbody tr th:only-of-type {\n",
       "        vertical-align: middle;\n",
       "    }\n",
       "\n",
       "    .dataframe tbody tr th {\n",
       "        vertical-align: top;\n",
       "    }\n",
       "\n",
       "    .dataframe thead th {\n",
       "        text-align: right;\n",
       "    }\n",
       "</style>\n",
       "<table border=\"1\" class=\"dataframe\">\n",
       "  <thead>\n",
       "    <tr style=\"text-align: right;\">\n",
       "      <th></th>\n",
       "      <th>Time</th>\n",
       "      <th>Pt</th>\n",
       "    </tr>\n",
       "  </thead>\n",
       "  <tbody>\n",
       "    <tr>\n",
       "      <th>0</th>\n",
       "      <td>25000.121</td>\n",
       "      <td>180.001134</td>\n",
       "    </tr>\n",
       "    <tr>\n",
       "      <th>1</th>\n",
       "      <td>25000.272</td>\n",
       "      <td>130.000592</td>\n",
       "    </tr>\n",
       "    <tr>\n",
       "      <th>2</th>\n",
       "      <td>25000.422</td>\n",
       "      <td>70.000171</td>\n",
       "    </tr>\n",
       "    <tr>\n",
       "      <th>3</th>\n",
       "      <td>25000.573</td>\n",
       "      <td>160.000896</td>\n",
       "    </tr>\n",
       "    <tr>\n",
       "      <th>4</th>\n",
       "      <td>25000.723</td>\n",
       "      <td>70.000171</td>\n",
       "    </tr>\n",
       "    <tr>\n",
       "      <th>...</th>\n",
       "      <td>...</td>\n",
       "      <td>...</td>\n",
       "    </tr>\n",
       "    <tr>\n",
       "      <th>4972</th>\n",
       "      <td>25747.920</td>\n",
       "      <td>100.000350</td>\n",
       "    </tr>\n",
       "    <tr>\n",
       "      <th>4973</th>\n",
       "      <td>25748.070</td>\n",
       "      <td>100.000350</td>\n",
       "    </tr>\n",
       "    <tr>\n",
       "      <th>4974</th>\n",
       "      <td>25748.221</td>\n",
       "      <td>160.000896</td>\n",
       "    </tr>\n",
       "    <tr>\n",
       "      <th>4975</th>\n",
       "      <td>25748.371</td>\n",
       "      <td>80.000224</td>\n",
       "    </tr>\n",
       "    <tr>\n",
       "      <th>4976</th>\n",
       "      <td>25748.522</td>\n",
       "      <td>90.000283</td>\n",
       "    </tr>\n",
       "  </tbody>\n",
       "</table>\n",
       "<p>4977 rows × 2 columns</p>\n",
       "</div>"
      ]
     },
     "execution_count": 16,
     "metadata": {},
     "output_type": "execute_result"
    }
   ],
   "execution_count": 16
  },
  {
   "metadata": {
    "ExecuteTime": {
     "end_time": "2025-07-24T20:35:53.919127Z",
     "start_time": "2025-07-24T20:35:53.544657Z"
    }
   },
   "cell_type": "code",
   "source": [
    "ec_df = load_ec_csv('./data/Example/Raw data_potential sqwave 0.4-0.95v_1h.csv')\n",
    "ec_df"
   ],
   "id": "99f099ee859c05a6",
   "outputs": [
    {
     "data": {
      "text/plain": [
       "          Voltage (V)  Current (A/cm2)\n",
       "Time (s)                              \n",
       "0.00          0.12947    -3.637200e-05\n",
       "0.02          0.67922     2.874500e-06\n",
       "0.07          0.67922     7.780200e-06\n",
       "0.12          0.67922     1.648000e-06\n",
       "0.14          0.67922     2.261200e-06\n",
       "...               ...              ...\n",
       "21739.44      0.67922    -8.048600e-07\n",
       "21740.36      0.67922    -1.418100e-06\n",
       "21740.84      0.67922    -1.418100e-06\n",
       "21741.72      0.67922    -1.916300e-07\n",
       "21742.72      0.67922    -1.916300e-07\n",
       "\n",
       "[97127 rows x 2 columns]"
      ],
      "text/html": [
       "<div>\n",
       "<style scoped>\n",
       "    .dataframe tbody tr th:only-of-type {\n",
       "        vertical-align: middle;\n",
       "    }\n",
       "\n",
       "    .dataframe tbody tr th {\n",
       "        vertical-align: top;\n",
       "    }\n",
       "\n",
       "    .dataframe thead th {\n",
       "        text-align: right;\n",
       "    }\n",
       "</style>\n",
       "<table border=\"1\" class=\"dataframe\">\n",
       "  <thead>\n",
       "    <tr style=\"text-align: right;\">\n",
       "      <th></th>\n",
       "      <th>Voltage (V)</th>\n",
       "      <th>Current (A/cm2)</th>\n",
       "    </tr>\n",
       "    <tr>\n",
       "      <th>Time (s)</th>\n",
       "      <th></th>\n",
       "      <th></th>\n",
       "    </tr>\n",
       "  </thead>\n",
       "  <tbody>\n",
       "    <tr>\n",
       "      <th>0.00</th>\n",
       "      <td>0.12947</td>\n",
       "      <td>-3.637200e-05</td>\n",
       "    </tr>\n",
       "    <tr>\n",
       "      <th>0.02</th>\n",
       "      <td>0.67922</td>\n",
       "      <td>2.874500e-06</td>\n",
       "    </tr>\n",
       "    <tr>\n",
       "      <th>0.07</th>\n",
       "      <td>0.67922</td>\n",
       "      <td>7.780200e-06</td>\n",
       "    </tr>\n",
       "    <tr>\n",
       "      <th>0.12</th>\n",
       "      <td>0.67922</td>\n",
       "      <td>1.648000e-06</td>\n",
       "    </tr>\n",
       "    <tr>\n",
       "      <th>0.14</th>\n",
       "      <td>0.67922</td>\n",
       "      <td>2.261200e-06</td>\n",
       "    </tr>\n",
       "    <tr>\n",
       "      <th>...</th>\n",
       "      <td>...</td>\n",
       "      <td>...</td>\n",
       "    </tr>\n",
       "    <tr>\n",
       "      <th>21739.44</th>\n",
       "      <td>0.67922</td>\n",
       "      <td>-8.048600e-07</td>\n",
       "    </tr>\n",
       "    <tr>\n",
       "      <th>21740.36</th>\n",
       "      <td>0.67922</td>\n",
       "      <td>-1.418100e-06</td>\n",
       "    </tr>\n",
       "    <tr>\n",
       "      <th>21740.84</th>\n",
       "      <td>0.67922</td>\n",
       "      <td>-1.418100e-06</td>\n",
       "    </tr>\n",
       "    <tr>\n",
       "      <th>21741.72</th>\n",
       "      <td>0.67922</td>\n",
       "      <td>-1.916300e-07</td>\n",
       "    </tr>\n",
       "    <tr>\n",
       "      <th>21742.72</th>\n",
       "      <td>0.67922</td>\n",
       "      <td>-1.916300e-07</td>\n",
       "    </tr>\n",
       "  </tbody>\n",
       "</table>\n",
       "<p>97127 rows × 2 columns</p>\n",
       "</div>"
      ]
     },
     "execution_count": 17,
     "metadata": {},
     "output_type": "execute_result"
    }
   ],
   "execution_count": 17
  },
  {
   "metadata": {
    "ExecuteTime": {
     "end_time": "2025-07-24T20:35:39.675387Z",
     "start_time": "2025-07-24T20:35:39.672547Z"
    }
   },
   "cell_type": "code",
   "source": [
    "from utils.FinalUtils import add_potential_to_dataframe\n",
    "\n",
    "# TODO: ALSO GET THIS INFO FROM USER: T, v, cycles\n",
    "\n",
    "# I0 minimum starting time\n",
    "# cycles how often to sample\n",
    "# T is period\n",
    "T = 60  #\n",
    "# v is list of voltages to cycler through\n",
    "v = [0.4, 0.95]  # volts\n",
    "cycles = 3\n"
   ],
   "id": "cb17658068768c3",
   "outputs": [],
   "execution_count": 12
  },
  {
   "metadata": {
    "ExecuteTime": {
     "end_time": "2025-07-24T20:35:57.907645Z",
     "start_time": "2025-07-24T20:35:57.891903Z"
    }
   },
   "cell_type": "code",
   "source": [
    "from utils.FinalUtils import load_trunc_icp_csv\n",
    "# load_trunc_icp_csv(icp_df: pd.DataFrame, del_start: int, response_delay: int, t: str) -> pd.DataFrame\n",
    "icp_df = load_trunc_icp_csv(icp_df, del_start=25, response_delay=2730, t='Time')"
   ],
   "id": "c431501cef03e45e",
   "outputs": [],
   "execution_count": 18
  },
  {
   "metadata": {
    "ExecuteTime": {
     "end_time": "2025-07-24T20:36:01.979899Z",
     "start_time": "2025-07-24T20:36:01.955152Z"
    }
   },
   "cell_type": "code",
   "source": "icp_df",
   "id": "a52c0b1cae949fec",
   "outputs": [
    {
     "data": {
      "text/plain": [
       "Empty DataFrame\n",
       "Columns: [Pt]\n",
       "Index: []"
      ],
      "text/html": [
       "<div>\n",
       "<style scoped>\n",
       "    .dataframe tbody tr th:only-of-type {\n",
       "        vertical-align: middle;\n",
       "    }\n",
       "\n",
       "    .dataframe tbody tr th {\n",
       "        vertical-align: top;\n",
       "    }\n",
       "\n",
       "    .dataframe thead th {\n",
       "        text-align: right;\n",
       "    }\n",
       "</style>\n",
       "<table border=\"1\" class=\"dataframe\">\n",
       "  <thead>\n",
       "    <tr style=\"text-align: right;\">\n",
       "      <th></th>\n",
       "      <th>Pt</th>\n",
       "    </tr>\n",
       "    <tr>\n",
       "      <th>Time</th>\n",
       "      <th></th>\n",
       "    </tr>\n",
       "  </thead>\n",
       "  <tbody>\n",
       "  </tbody>\n",
       "</table>\n",
       "</div>"
      ]
     },
     "execution_count": 19,
     "metadata": {},
     "output_type": "execute_result"
    }
   ],
   "execution_count": 19
  },
  {
   "metadata": {
    "ExecuteTime": {
     "end_time": "2025-07-24T18:50:30.772680Z",
     "start_time": "2025-07-24T18:50:30.747398Z"
    }
   },
   "cell_type": "code",
   "source": [
    "from utils.FinalUtils import interpolate\n",
    "\n",
    "interp_df = interpolate(icp_trunc_df=icp_df, ec_df=ec_df)"
   ],
   "id": "1f0081833acfbd8c",
   "outputs": [
    {
     "name": "stdout",
     "output_type": "stream",
     "text": [
      "[interpolate] Starting with ec_df shape: (97127, 2), icp_trunc_df shape: (4977, 1)\n",
      "[interpolate] Extracted arrays: ec_times (len=97127), ec_potentials (len=97127)\n",
      "[interpolate] Extracted icp_times (len=4977)\n",
      "[interpolate] Performing interpolation...\n",
      "[interpolate] Interpolation completed\n",
      "[interpolate] Saving to /Users/bc/ICP-MS Plots/output/export_data/interpolated_data.csv\n",
      "[interpolate] CSV saved successfully\n",
      "[interpolate] Returning dataframe with shape (4977, 3)\n"
     ]
    }
   ],
   "execution_count": 6
  },
  {
   "metadata": {
    "ExecuteTime": {
     "end_time": "2025-07-24T18:50:30.813890Z",
     "start_time": "2025-07-24T18:50:30.795985Z"
    }
   },
   "cell_type": "code",
   "source": [
    "tN = create_voltage_schedule(interp_df.index.min(), period=T, voltages=v, cycles=cycles)\n",
    "final_df = add_potential_to_dataframe(tN, interp_df.copy())\n",
    "final_df"
   ],
   "id": "49634887e5a91020",
   "outputs": [
    {
     "data": {
      "text/plain": [
       "                 Pt  Voltage (V)  Current (A/cm2)  Applied_Voltage (V)\n",
       "Time                                                                  \n",
       "0.000    180.001134     0.129470        -0.000036                  0.4\n",
       "0.151    130.000592     0.679233         0.000003                  0.4\n",
       "0.301     70.000171     0.464790        -0.000015                  0.4\n",
       "0.452    160.000896     0.679256         0.000004                  0.4\n",
       "0.602     70.000171     0.679220         0.000002                  0.4\n",
       "...             ...          ...              ...                  ...\n",
       "747.799  100.000350     0.395141        -0.000010                  0.4\n",
       "747.949  100.000350     0.679220         0.000004                  0.4\n",
       "748.100  160.000896     0.679220         0.000002                  0.4\n",
       "748.250   80.000224     0.679220         0.000016                  0.4\n",
       "748.401   90.000283     0.679220         0.000002                  0.4\n",
       "\n",
       "[4977 rows x 4 columns]"
      ],
      "text/html": [
       "<div>\n",
       "<style scoped>\n",
       "    .dataframe tbody tr th:only-of-type {\n",
       "        vertical-align: middle;\n",
       "    }\n",
       "\n",
       "    .dataframe tbody tr th {\n",
       "        vertical-align: top;\n",
       "    }\n",
       "\n",
       "    .dataframe thead th {\n",
       "        text-align: right;\n",
       "    }\n",
       "</style>\n",
       "<table border=\"1\" class=\"dataframe\">\n",
       "  <thead>\n",
       "    <tr style=\"text-align: right;\">\n",
       "      <th></th>\n",
       "      <th>Pt</th>\n",
       "      <th>Voltage (V)</th>\n",
       "      <th>Current (A/cm2)</th>\n",
       "      <th>Applied_Voltage (V)</th>\n",
       "    </tr>\n",
       "    <tr>\n",
       "      <th>Time</th>\n",
       "      <th></th>\n",
       "      <th></th>\n",
       "      <th></th>\n",
       "      <th></th>\n",
       "    </tr>\n",
       "  </thead>\n",
       "  <tbody>\n",
       "    <tr>\n",
       "      <th>0.000</th>\n",
       "      <td>180.001134</td>\n",
       "      <td>0.129470</td>\n",
       "      <td>-0.000036</td>\n",
       "      <td>0.4</td>\n",
       "    </tr>\n",
       "    <tr>\n",
       "      <th>0.151</th>\n",
       "      <td>130.000592</td>\n",
       "      <td>0.679233</td>\n",
       "      <td>0.000003</td>\n",
       "      <td>0.4</td>\n",
       "    </tr>\n",
       "    <tr>\n",
       "      <th>0.301</th>\n",
       "      <td>70.000171</td>\n",
       "      <td>0.464790</td>\n",
       "      <td>-0.000015</td>\n",
       "      <td>0.4</td>\n",
       "    </tr>\n",
       "    <tr>\n",
       "      <th>0.452</th>\n",
       "      <td>160.000896</td>\n",
       "      <td>0.679256</td>\n",
       "      <td>0.000004</td>\n",
       "      <td>0.4</td>\n",
       "    </tr>\n",
       "    <tr>\n",
       "      <th>0.602</th>\n",
       "      <td>70.000171</td>\n",
       "      <td>0.679220</td>\n",
       "      <td>0.000002</td>\n",
       "      <td>0.4</td>\n",
       "    </tr>\n",
       "    <tr>\n",
       "      <th>...</th>\n",
       "      <td>...</td>\n",
       "      <td>...</td>\n",
       "      <td>...</td>\n",
       "      <td>...</td>\n",
       "    </tr>\n",
       "    <tr>\n",
       "      <th>747.799</th>\n",
       "      <td>100.000350</td>\n",
       "      <td>0.395141</td>\n",
       "      <td>-0.000010</td>\n",
       "      <td>0.4</td>\n",
       "    </tr>\n",
       "    <tr>\n",
       "      <th>747.949</th>\n",
       "      <td>100.000350</td>\n",
       "      <td>0.679220</td>\n",
       "      <td>0.000004</td>\n",
       "      <td>0.4</td>\n",
       "    </tr>\n",
       "    <tr>\n",
       "      <th>748.100</th>\n",
       "      <td>160.000896</td>\n",
       "      <td>0.679220</td>\n",
       "      <td>0.000002</td>\n",
       "      <td>0.4</td>\n",
       "    </tr>\n",
       "    <tr>\n",
       "      <th>748.250</th>\n",
       "      <td>80.000224</td>\n",
       "      <td>0.679220</td>\n",
       "      <td>0.000016</td>\n",
       "      <td>0.4</td>\n",
       "    </tr>\n",
       "    <tr>\n",
       "      <th>748.401</th>\n",
       "      <td>90.000283</td>\n",
       "      <td>0.679220</td>\n",
       "      <td>0.000002</td>\n",
       "      <td>0.4</td>\n",
       "    </tr>\n",
       "  </tbody>\n",
       "</table>\n",
       "<p>4977 rows × 4 columns</p>\n",
       "</div>"
      ]
     },
     "execution_count": 7,
     "metadata": {},
     "output_type": "execute_result"
    }
   ],
   "execution_count": 7
  }
 ],
 "metadata": {
  "kernelspec": {
   "display_name": "Python 3",
   "language": "python",
   "name": "python3"
  },
  "language_info": {
   "codemirror_mode": {
    "name": "ipython",
    "version": 2
   },
   "file_extension": ".py",
   "mimetype": "text/x-python",
   "name": "python",
   "nbconvert_exporter": "python",
   "pygments_lexer": "ipython2",
   "version": "2.7.6"
  }
 },
 "nbformat": 4,
 "nbformat_minor": 5
}
