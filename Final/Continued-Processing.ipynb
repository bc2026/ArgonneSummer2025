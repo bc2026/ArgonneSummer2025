{
 "cells": [
  {
   "metadata": {},
   "cell_type": "markdown",
   "source": "## Process ICP-MS data",
   "id": "c88902f0c205e256"
  },
  {
   "cell_type": "code",
   "id": "initial_id",
   "metadata": {
    "collapsed": true
   },
   "source": [
    "import pandas as pd\n",
    "import numpy as np\n",
    "import matplotlib.pyplot as pl\n",
    "\n",
    "from Final.utils import load_ec_csv, find_intervals, clean_white_space, load_trunc_icp_csv, plot_amp_voltage"
   ],
   "outputs": [],
   "execution_count": null
  },
  {
   "metadata": {},
   "cell_type": "code",
   "source": [
    "path_to_icp_csv = './data/Example_processed_data_020525_after_25000.csv'\n",
    "\n",
    "CONSTANT_A = 103054\n",
    "\n",
    "TIME_CONSTANT_A = 25\n",
    "TIME_CONSTANT_B = 2703\n",
    "\n",
    "CONCENTRATION_CONSTANT = 0.403\n",
    "\n",
    "AMT_OF_ELEMENT = 1.176\n",
    "response = 'Pt'\n",
    "\n"
   ],
   "id": "67f4b946adc468d5",
   "outputs": [],
   "execution_count": null
  },
  {
   "metadata": {},
   "cell_type": "code",
   "source": [
    "t = 'Time'\n",
    "icp_trunc_df = load_trunc_icp_csv(path_to_icp_csv)\n",
    "\n",
    "icp_trunc_df[t] = icp_trunc_df[t] - icp_trunc_df[t].min() # Normalize time\n",
    "df = clean_white_space(df=icp_trunc_df) # Clean white space\n",
    "df"
   ],
   "id": "5341548b6d75c2d4",
   "outputs": [],
   "execution_count": null
  },
  {
   "metadata": {},
   "cell_type": "code",
   "source": [
    "icp_trunc_df['Pt-ppb'] = icp_trunc_df[response]*CONSTANT_A\n",
    "icp_trunc_df['Corrected_Time'] = (icp_trunc_df[t]-(TIME_CONSTANT_A+TIME_CONSTANT_B))/60 # in minutes\n",
    "icp_trunc_df['Pt-ug/hr'] = icp_trunc_df['Pt-ppb'] * 60 * 0.001 * CONCENTRATION_CONSTANT\n",
    "icp_trunc_df['Pt-ug/hr/ugPt'] = AMT_OF_ELEMENT/icp_trunc_df['Pt-ug/hr']\n"
   ],
   "id": "870aeef633820c94",
   "outputs": [],
   "execution_count": null
  },
  {
   "metadata": {},
   "cell_type": "code",
   "source": "## Process Data Together",
   "id": "8ca9493dfcef33e2",
   "outputs": [],
   "execution_count": null
  },
  {
   "metadata": {},
   "cell_type": "code",
   "source": [
    "from Final.utils import replace_sections\n",
    "\n",
    "# Load EC data\n",
    "ec_df_cleaned = load_ec_csv(path_to_csv_file='./data/...')\n",
    "tN = find_intervals()\n",
    "ec_df = replace_sections(tN, ec_df=ec_df_cleaned)\n"
   ],
   "id": "89e47c3fd72de95f",
   "outputs": [],
   "execution_count": null
  },
  {
   "metadata": {},
   "cell_type": "markdown",
   "source": "## Interpolate",
   "id": "b7090c0e3edf6529"
  },
  {
   "metadata": {},
   "cell_type": "code",
   "source": [
    "from Final.utils import interpolate\n",
    "\n",
    "final_df = interpolate(ec_cal=ec_df, icp_trunc=icp)"
   ],
   "id": "e5a004e629a6b77",
   "outputs": [],
   "execution_count": null
  },
  {
   "metadata": {},
   "cell_type": "markdown",
   "source": "## Plot data",
   "id": "29cb26651dce8fe5"
  },
  {
   "metadata": {},
   "cell_type": "code",
   "outputs": [],
   "execution_count": null,
   "source": "fig, ax1  = plot_amp_voltage(t=final_df['Time'], fin_df=final_df)",
   "id": "c6789bde47cf0956"
  }
 ],
 "metadata": {
  "kernelspec": {
   "display_name": "Python 3",
   "language": "python",
   "name": "python3"
  },
  "language_info": {
   "codemirror_mode": {
    "name": "ipython",
    "version": 2
   },
   "file_extension": ".py",
   "mimetype": "text/x-python",
   "name": "python",
   "nbconvert_exporter": "python",
   "pygments_lexer": "ipython2",
   "version": "2.7.6"
  }
 },
 "nbformat": 4,
 "nbformat_minor": 5
}
