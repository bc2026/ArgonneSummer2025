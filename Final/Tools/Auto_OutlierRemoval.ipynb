{
 "cells": [
  {
   "metadata": {
    "ExecuteTime": {
     "end_time": "2025-07-25T21:37:42.623159Z",
     "start_time": "2025-07-25T21:37:41.990209Z"
    }
   },
   "cell_type": "code",
   "source": [
    "!pip3 install papermill --quiet\n",
    "!pip install papermill --quiet\n"
   ],
   "id": "c56de464c081f408",
   "outputs": [
    {
     "name": "stdout",
     "output_type": "stream",
     "text": [
      "\u001B[1;31merror\u001B[0m: \u001B[1mexternally-managed-environment\u001B[0m\r\n",
      "\r\n",
      "\u001B[31m×\u001B[0m This environment is externally managed\r\n",
      "\u001B[31m╰─>\u001B[0m To install Python packages system-wide, try brew install\r\n",
      "\u001B[31m   \u001B[0m xyz, where xyz is the package you are trying to\r\n",
      "\u001B[31m   \u001B[0m install.\r\n",
      "\u001B[31m   \u001B[0m \r\n",
      "\u001B[31m   \u001B[0m If you wish to install a Python library that isn't in Homebrew,\r\n",
      "\u001B[31m   \u001B[0m use a virtual environment:\r\n",
      "\u001B[31m   \u001B[0m \r\n",
      "\u001B[31m   \u001B[0m python3 -m venv path/to/venv\r\n",
      "\u001B[31m   \u001B[0m source path/to/venv/bin/activate\r\n",
      "\u001B[31m   \u001B[0m python3 -m pip install xyz\r\n",
      "\u001B[31m   \u001B[0m \r\n",
      "\u001B[31m   \u001B[0m If you wish to install a Python application that isn't in Homebrew,\r\n",
      "\u001B[31m   \u001B[0m it may be easiest to use 'pipx install xyz', which will manage a\r\n",
      "\u001B[31m   \u001B[0m virtual environment for you. You can install pipx with\r\n",
      "\u001B[31m   \u001B[0m \r\n",
      "\u001B[31m   \u001B[0m brew install pipx\r\n",
      "\u001B[31m   \u001B[0m \r\n",
      "\u001B[31m   \u001B[0m You may restore the old behavior of pip by passing\r\n",
      "\u001B[31m   \u001B[0m the '--break-system-packages' flag to pip, or by adding\r\n",
      "\u001B[31m   \u001B[0m 'break-system-packages = true' to your pip.conf file. The latter\r\n",
      "\u001B[31m   \u001B[0m will permanently disable this error.\r\n",
      "\u001B[31m   \u001B[0m \r\n",
      "\u001B[31m   \u001B[0m If you disable this error, we STRONGLY recommend that you additionally\r\n",
      "\u001B[31m   \u001B[0m pass the '--user' flag to pip, or set 'user = true' in your pip.conf\r\n",
      "\u001B[31m   \u001B[0m file. Failure to do this can result in a broken Homebrew installation.\r\n",
      "\u001B[31m   \u001B[0m \r\n",
      "\u001B[31m   \u001B[0m Read more about this behavior here: <https://peps.python.org/pep-0668/>\r\n",
      "\r\n",
      "\u001B[1;35mnote\u001B[0m: If you believe this is a mistake, please contact your Python installation or OS distribution provider. You can override this, at the risk of breaking your Python installation or OS, by passing --break-system-packages.\r\n",
      "\u001B[1;36mhint\u001B[0m: See PEP 668 for the detailed specification.\r\n",
      "zsh:1: command not found: pip\r\n"
     ]
    }
   ],
   "execution_count": 102
  },
  {
   "cell_type": "code",
   "id": "d5b57be1",
   "metadata": {
    "ExecuteTime": {
     "end_time": "2025-07-25T21:37:42.645800Z",
     "start_time": "2025-07-25T21:37:42.642326Z"
    }
   },
   "source": [
    "import papermill as pm\n",
    "import os\n",
    "import glob\n",
    "import itertools\n",
    "import pandas as pd\n"
   ],
   "outputs": [],
   "execution_count": 103
  },
  {
   "metadata": {},
   "cell_type": "markdown",
   "source": "# Change the dataset name and path to your data file here",
   "id": "8f4b177c4c5ba2f3"
  },
  {
   "cell_type": "code",
   "id": "0583bcaf",
   "metadata": {
    "ExecuteTime": {
     "end_time": "2025-07-25T21:37:42.656293Z",
     "start_time": "2025-07-25T21:37:42.654376Z"
    }
   },
   "source": [
    "dataset_name = 'Example_processed_data_020525_after_25000'\n",
    "dataset_path = f'../data/ICP-MS/{dataset_name}.csv'\n",
    "notebook_path = 'OutlierRemoval_Final.ipynb'"
   ],
   "outputs": [],
   "execution_count": 104
  },
  {
   "metadata": {
    "ExecuteTime": {
     "end_time": "2025-07-25T21:37:42.683401Z",
     "start_time": "2025-07-25T21:37:42.672107Z"
    }
   },
   "cell_type": "code",
   "source": "df = pd.read_csv(dataset_path)",
   "id": "c1bfec0d5613daa0",
   "outputs": [],
   "execution_count": 105
  },
  {
   "metadata": {},
   "cell_type": "markdown",
   "source": "# Change the concentrations here",
   "id": "6fa8ae2b2aecffa4"
  },
  {
   "metadata": {
    "ExecuteTime": {
     "end_time": "2025-07-25T21:37:42.699875Z",
     "start_time": "2025-07-25T21:37:42.696224Z"
    }
   },
   "cell_type": "code",
   "source": "concentrations = [1,2,3,4,5]",
   "id": "abc30eb94ab13c1a",
   "outputs": [],
   "execution_count": 106
  },
  {
   "metadata": {
    "ExecuteTime": {
     "end_time": "2025-07-25T21:37:42.727115Z",
     "start_time": "2025-07-25T21:37:42.719747Z"
    }
   },
   "cell_type": "code",
   "source": [
    "import logging\n",
    "\n",
    "response_index = None\n",
    "\n",
    "# set the response data\n",
    "if not df.columns.empty:\n",
    "    cols_to_drop = []\n",
    "    if 'Time' in df.columns:\n",
    "        cols_to_drop.append('Time')\n",
    "    if 'Replicate' in df.columns:\n",
    "        cols_to_drop.append('Replicate')\n",
    "    if 'Reading' in df.columns:\n",
    "        cols_to_drop.append('Reading')\n",
    "\n",
    "    responses = df.drop(columns=cols_to_drop)\n",
    "    if responses.empty and not df.empty: # Check if all columns were dropped, and df wasn't empty initially\n",
    "        raise ValueError(\"All columns were identified as non-response columns. No response data left.\")\n",
    "else:\n",
    "    raise ValueError(\"DataFrame has no columns.\")\n",
    "\n",
    "logging.info(f\"Available responses: {responses.columns.tolist()}\")\n",
    "\n",
    "os.makedirs(f'../output/{dataset_name}', exist_ok=True)"
   ],
   "id": "41e4c1d166c70f04",
   "outputs": [],
   "execution_count": 107
  },
  {
   "cell_type": "code",
   "id": "7d90c5db",
   "metadata": {
    "ExecuteTime": {
     "end_time": "2025-07-25T21:37:53.516354Z",
     "start_time": "2025-07-25T21:37:42.738280Z"
    }
   },
   "source": [
    "for response in responses:\n",
    "    if not os.path.exists(f'../output/{dataset_name}'):\n",
    "        logging.info(f'../output/{dataset_name} does not exist, creating...')\n",
    "        os.makedirs(f'../output/{dataset_name}', exist_ok=True)\n",
    "    else:\n",
    "        logging.info(f'../output/{dataset_name} already exists.')\n",
    "\n",
    "    if not os.path.exists(f'../output/{dataset_name}/nb'):\n",
    "        logging.info(f'../output/{dataset_name}/nb does not exist, creating...')\n",
    "        os.makedirs(f'../output/{dataset_name}/nb', exist_ok=True)\n",
    "    else:\n",
    "        logging.info(f'../output/{dataset_name}/nb already exists.')\n",
    "\n",
    "\n",
    "    pm.execute_notebook(\n",
    "                notebook_path,\n",
    "                f'../output/{dataset_name}/nb/OutlierRemoval-{dataset_name}.ipynb',\n",
    "                parameters=dict(\n",
    "                    concentrations=concentrations,\n",
    "                    dataset_name=dataset_name,\n",
    "                    path_to_data=dataset_path,\n",
    "                    response=response,\n",
    "                    output_path=f'../output/{dataset_name}',)\n",
    "                    )\n",
    "    \n"
   ],
   "outputs": [
    {
     "name": "stderr",
     "output_type": "stream",
     "text": [
      "\n",
      "Executing:   0%|          | 0/24 [00:00<?, ?cell/s]\u001B[A\n",
      "Executing:   4%|▍         | 1/24 [00:02<00:53,  2.31s/cell]\u001B[A\n",
      "Executing:  25%|██▌       | 6/24 [00:02<00:05,  3.27cell/s]\u001B[A\n",
      "Executing:  42%|████▏     | 10/24 [00:05<00:08,  1.70cell/s]\u001B[A\n",
      "Executing:  67%|██████▋   | 16/24 [00:06<00:02,  3.41cell/s]\u001B[A\n",
      "Executing:  83%|████████▎ | 20/24 [00:10<00:02,  1.89cell/s]\u001B[A\n",
      "Executing: 100%|██████████| 24/24 [00:10<00:00,  2.23cell/s]\u001B[A\n"
     ]
    }
   ],
   "execution_count": 108
  }
 ],
 "metadata": {
  "kernelspec": {
   "display_name": ".venv",
   "language": "python",
   "name": "python3"
  },
  "language_info": {
   "codemirror_mode": {
    "name": "ipython",
    "version": 3
   },
   "file_extension": ".py",
   "mimetype": "text/x-python",
   "name": "python",
   "nbconvert_exporter": "python",
   "pygments_lexer": "ipython3",
   "version": "3.9.6"
  }
 },
 "nbformat": 4,
 "nbformat_minor": 5
}
